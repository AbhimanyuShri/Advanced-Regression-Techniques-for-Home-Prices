{
 "cells": [
  {
   "cell_type": "code",
   "execution_count": 1,
   "id": "e3c8a36b",
   "metadata": {
    "_cell_guid": "b1076dfc-b9ad-4769-8c92-a6c4dae69d19",
    "_uuid": "8f2839f25d086af736a60e9eeb907d3b93b6e0e5",
    "execution": {
     "iopub.execute_input": "2024-09-21T20:09:52.295212Z",
     "iopub.status.busy": "2024-09-21T20:09:52.294247Z",
     "iopub.status.idle": "2024-09-21T20:09:52.735583Z",
     "shell.execute_reply": "2024-09-21T20:09:52.734104Z"
    },
    "papermill": {
     "duration": 0.451541,
     "end_time": "2024-09-21T20:09:52.738166",
     "exception": false,
     "start_time": "2024-09-21T20:09:52.286625",
     "status": "completed"
    },
    "tags": []
   },
   "outputs": [
    {
     "name": "stdout",
     "output_type": "stream",
     "text": [
      "/kaggle/input/house-prices-advanced-regression-techniques/sample_submission.csv\n",
      "/kaggle/input/house-prices-advanced-regression-techniques/data_description.txt\n",
      "/kaggle/input/house-prices-advanced-regression-techniques/train.csv\n",
      "/kaggle/input/house-prices-advanced-regression-techniques/test.csv\n"
     ]
    }
   ],
   "source": [
    "# This Python 3 environment comes with many helpful analytics libraries installed\n",
    "# It is defined by the kaggle/python Docker image: https://github.com/kaggle/docker-python\n",
    "# For example, here's several helpful packages to load\n",
    "\n",
    "import numpy as np # linear algebra\n",
    "import pandas as pd # data processing, CSV file I/O (e.g. pd.read_csv)\n",
    "\n",
    "# Input data files are available in the read-only \"../input/\" directory\n",
    "# For example, running this (by clicking run or pressing Shift+Enter) will list all files under the input directory\n",
    "\n",
    "import os\n",
    "for dirname, _, filenames in os.walk('/kaggle/input'):\n",
    "    for filename in filenames:\n",
    "        print(os.path.join(dirname, filename))\n",
    "\n",
    "# You can write up to 20GB to the current directory (/kaggle/working/) that gets preserved as output when you create a version using \"Save & Run All\" \n",
    "# You can also write temporary files to /kaggle/temp/, but they won't be saved outside of the current session"
   ]
  },
  {
   "cell_type": "code",
   "execution_count": 2,
   "id": "ce4d2fdd",
   "metadata": {
    "execution": {
     "iopub.execute_input": "2024-09-21T20:09:52.750099Z",
     "iopub.status.busy": "2024-09-21T20:09:52.749556Z",
     "iopub.status.idle": "2024-09-21T20:09:54.469698Z",
     "shell.execute_reply": "2024-09-21T20:09:54.468637Z"
    },
    "papermill": {
     "duration": 1.729022,
     "end_time": "2024-09-21T20:09:54.472383",
     "exception": false,
     "start_time": "2024-09-21T20:09:52.743361",
     "status": "completed"
    },
    "tags": []
   },
   "outputs": [
    {
     "data": {
      "text/html": [
       "<div>\n",
       "<style scoped>\n",
       "    .dataframe tbody tr th:only-of-type {\n",
       "        vertical-align: middle;\n",
       "    }\n",
       "\n",
       "    .dataframe tbody tr th {\n",
       "        vertical-align: top;\n",
       "    }\n",
       "\n",
       "    .dataframe thead th {\n",
       "        text-align: right;\n",
       "    }\n",
       "</style>\n",
       "<table border=\"1\" class=\"dataframe\">\n",
       "  <thead>\n",
       "    <tr style=\"text-align: right;\">\n",
       "      <th></th>\n",
       "      <th>Id</th>\n",
       "      <th>MSSubClass</th>\n",
       "      <th>MSZoning</th>\n",
       "      <th>LotFrontage</th>\n",
       "      <th>LotArea</th>\n",
       "      <th>Street</th>\n",
       "      <th>Alley</th>\n",
       "      <th>LotShape</th>\n",
       "      <th>LandContour</th>\n",
       "      <th>Utilities</th>\n",
       "      <th>...</th>\n",
       "      <th>PoolArea</th>\n",
       "      <th>PoolQC</th>\n",
       "      <th>Fence</th>\n",
       "      <th>MiscFeature</th>\n",
       "      <th>MiscVal</th>\n",
       "      <th>MoSold</th>\n",
       "      <th>YrSold</th>\n",
       "      <th>SaleType</th>\n",
       "      <th>SaleCondition</th>\n",
       "      <th>SalePrice</th>\n",
       "    </tr>\n",
       "  </thead>\n",
       "  <tbody>\n",
       "    <tr>\n",
       "      <th>0</th>\n",
       "      <td>1</td>\n",
       "      <td>60</td>\n",
       "      <td>RL</td>\n",
       "      <td>65.0</td>\n",
       "      <td>8450</td>\n",
       "      <td>Pave</td>\n",
       "      <td>NaN</td>\n",
       "      <td>Reg</td>\n",
       "      <td>Lvl</td>\n",
       "      <td>AllPub</td>\n",
       "      <td>...</td>\n",
       "      <td>0</td>\n",
       "      <td>NaN</td>\n",
       "      <td>NaN</td>\n",
       "      <td>NaN</td>\n",
       "      <td>0</td>\n",
       "      <td>2</td>\n",
       "      <td>2008</td>\n",
       "      <td>WD</td>\n",
       "      <td>Normal</td>\n",
       "      <td>208500</td>\n",
       "    </tr>\n",
       "    <tr>\n",
       "      <th>1</th>\n",
       "      <td>2</td>\n",
       "      <td>20</td>\n",
       "      <td>RL</td>\n",
       "      <td>80.0</td>\n",
       "      <td>9600</td>\n",
       "      <td>Pave</td>\n",
       "      <td>NaN</td>\n",
       "      <td>Reg</td>\n",
       "      <td>Lvl</td>\n",
       "      <td>AllPub</td>\n",
       "      <td>...</td>\n",
       "      <td>0</td>\n",
       "      <td>NaN</td>\n",
       "      <td>NaN</td>\n",
       "      <td>NaN</td>\n",
       "      <td>0</td>\n",
       "      <td>5</td>\n",
       "      <td>2007</td>\n",
       "      <td>WD</td>\n",
       "      <td>Normal</td>\n",
       "      <td>181500</td>\n",
       "    </tr>\n",
       "    <tr>\n",
       "      <th>2</th>\n",
       "      <td>3</td>\n",
       "      <td>60</td>\n",
       "      <td>RL</td>\n",
       "      <td>68.0</td>\n",
       "      <td>11250</td>\n",
       "      <td>Pave</td>\n",
       "      <td>NaN</td>\n",
       "      <td>IR1</td>\n",
       "      <td>Lvl</td>\n",
       "      <td>AllPub</td>\n",
       "      <td>...</td>\n",
       "      <td>0</td>\n",
       "      <td>NaN</td>\n",
       "      <td>NaN</td>\n",
       "      <td>NaN</td>\n",
       "      <td>0</td>\n",
       "      <td>9</td>\n",
       "      <td>2008</td>\n",
       "      <td>WD</td>\n",
       "      <td>Normal</td>\n",
       "      <td>223500</td>\n",
       "    </tr>\n",
       "    <tr>\n",
       "      <th>3</th>\n",
       "      <td>4</td>\n",
       "      <td>70</td>\n",
       "      <td>RL</td>\n",
       "      <td>60.0</td>\n",
       "      <td>9550</td>\n",
       "      <td>Pave</td>\n",
       "      <td>NaN</td>\n",
       "      <td>IR1</td>\n",
       "      <td>Lvl</td>\n",
       "      <td>AllPub</td>\n",
       "      <td>...</td>\n",
       "      <td>0</td>\n",
       "      <td>NaN</td>\n",
       "      <td>NaN</td>\n",
       "      <td>NaN</td>\n",
       "      <td>0</td>\n",
       "      <td>2</td>\n",
       "      <td>2006</td>\n",
       "      <td>WD</td>\n",
       "      <td>Abnorml</td>\n",
       "      <td>140000</td>\n",
       "    </tr>\n",
       "    <tr>\n",
       "      <th>4</th>\n",
       "      <td>5</td>\n",
       "      <td>60</td>\n",
       "      <td>RL</td>\n",
       "      <td>84.0</td>\n",
       "      <td>14260</td>\n",
       "      <td>Pave</td>\n",
       "      <td>NaN</td>\n",
       "      <td>IR1</td>\n",
       "      <td>Lvl</td>\n",
       "      <td>AllPub</td>\n",
       "      <td>...</td>\n",
       "      <td>0</td>\n",
       "      <td>NaN</td>\n",
       "      <td>NaN</td>\n",
       "      <td>NaN</td>\n",
       "      <td>0</td>\n",
       "      <td>12</td>\n",
       "      <td>2008</td>\n",
       "      <td>WD</td>\n",
       "      <td>Normal</td>\n",
       "      <td>250000</td>\n",
       "    </tr>\n",
       "    <tr>\n",
       "      <th>5</th>\n",
       "      <td>6</td>\n",
       "      <td>50</td>\n",
       "      <td>RL</td>\n",
       "      <td>85.0</td>\n",
       "      <td>14115</td>\n",
       "      <td>Pave</td>\n",
       "      <td>NaN</td>\n",
       "      <td>IR1</td>\n",
       "      <td>Lvl</td>\n",
       "      <td>AllPub</td>\n",
       "      <td>...</td>\n",
       "      <td>0</td>\n",
       "      <td>NaN</td>\n",
       "      <td>MnPrv</td>\n",
       "      <td>Shed</td>\n",
       "      <td>700</td>\n",
       "      <td>10</td>\n",
       "      <td>2009</td>\n",
       "      <td>WD</td>\n",
       "      <td>Normal</td>\n",
       "      <td>143000</td>\n",
       "    </tr>\n",
       "    <tr>\n",
       "      <th>6</th>\n",
       "      <td>7</td>\n",
       "      <td>20</td>\n",
       "      <td>RL</td>\n",
       "      <td>75.0</td>\n",
       "      <td>10084</td>\n",
       "      <td>Pave</td>\n",
       "      <td>NaN</td>\n",
       "      <td>Reg</td>\n",
       "      <td>Lvl</td>\n",
       "      <td>AllPub</td>\n",
       "      <td>...</td>\n",
       "      <td>0</td>\n",
       "      <td>NaN</td>\n",
       "      <td>NaN</td>\n",
       "      <td>NaN</td>\n",
       "      <td>0</td>\n",
       "      <td>8</td>\n",
       "      <td>2007</td>\n",
       "      <td>WD</td>\n",
       "      <td>Normal</td>\n",
       "      <td>307000</td>\n",
       "    </tr>\n",
       "    <tr>\n",
       "      <th>7</th>\n",
       "      <td>8</td>\n",
       "      <td>60</td>\n",
       "      <td>RL</td>\n",
       "      <td>NaN</td>\n",
       "      <td>10382</td>\n",
       "      <td>Pave</td>\n",
       "      <td>NaN</td>\n",
       "      <td>IR1</td>\n",
       "      <td>Lvl</td>\n",
       "      <td>AllPub</td>\n",
       "      <td>...</td>\n",
       "      <td>0</td>\n",
       "      <td>NaN</td>\n",
       "      <td>NaN</td>\n",
       "      <td>Shed</td>\n",
       "      <td>350</td>\n",
       "      <td>11</td>\n",
       "      <td>2009</td>\n",
       "      <td>WD</td>\n",
       "      <td>Normal</td>\n",
       "      <td>200000</td>\n",
       "    </tr>\n",
       "    <tr>\n",
       "      <th>8</th>\n",
       "      <td>9</td>\n",
       "      <td>50</td>\n",
       "      <td>RM</td>\n",
       "      <td>51.0</td>\n",
       "      <td>6120</td>\n",
       "      <td>Pave</td>\n",
       "      <td>NaN</td>\n",
       "      <td>Reg</td>\n",
       "      <td>Lvl</td>\n",
       "      <td>AllPub</td>\n",
       "      <td>...</td>\n",
       "      <td>0</td>\n",
       "      <td>NaN</td>\n",
       "      <td>NaN</td>\n",
       "      <td>NaN</td>\n",
       "      <td>0</td>\n",
       "      <td>4</td>\n",
       "      <td>2008</td>\n",
       "      <td>WD</td>\n",
       "      <td>Abnorml</td>\n",
       "      <td>129900</td>\n",
       "    </tr>\n",
       "    <tr>\n",
       "      <th>9</th>\n",
       "      <td>10</td>\n",
       "      <td>190</td>\n",
       "      <td>RL</td>\n",
       "      <td>50.0</td>\n",
       "      <td>7420</td>\n",
       "      <td>Pave</td>\n",
       "      <td>NaN</td>\n",
       "      <td>Reg</td>\n",
       "      <td>Lvl</td>\n",
       "      <td>AllPub</td>\n",
       "      <td>...</td>\n",
       "      <td>0</td>\n",
       "      <td>NaN</td>\n",
       "      <td>NaN</td>\n",
       "      <td>NaN</td>\n",
       "      <td>0</td>\n",
       "      <td>1</td>\n",
       "      <td>2008</td>\n",
       "      <td>WD</td>\n",
       "      <td>Normal</td>\n",
       "      <td>118000</td>\n",
       "    </tr>\n",
       "  </tbody>\n",
       "</table>\n",
       "<p>10 rows × 81 columns</p>\n",
       "</div>"
      ],
      "text/plain": [
       "   Id  MSSubClass MSZoning  LotFrontage  LotArea Street Alley LotShape  \\\n",
       "0   1          60       RL         65.0     8450   Pave   NaN      Reg   \n",
       "1   2          20       RL         80.0     9600   Pave   NaN      Reg   \n",
       "2   3          60       RL         68.0    11250   Pave   NaN      IR1   \n",
       "3   4          70       RL         60.0     9550   Pave   NaN      IR1   \n",
       "4   5          60       RL         84.0    14260   Pave   NaN      IR1   \n",
       "5   6          50       RL         85.0    14115   Pave   NaN      IR1   \n",
       "6   7          20       RL         75.0    10084   Pave   NaN      Reg   \n",
       "7   8          60       RL          NaN    10382   Pave   NaN      IR1   \n",
       "8   9          50       RM         51.0     6120   Pave   NaN      Reg   \n",
       "9  10         190       RL         50.0     7420   Pave   NaN      Reg   \n",
       "\n",
       "  LandContour Utilities  ... PoolArea PoolQC  Fence MiscFeature MiscVal  \\\n",
       "0         Lvl    AllPub  ...        0    NaN    NaN         NaN       0   \n",
       "1         Lvl    AllPub  ...        0    NaN    NaN         NaN       0   \n",
       "2         Lvl    AllPub  ...        0    NaN    NaN         NaN       0   \n",
       "3         Lvl    AllPub  ...        0    NaN    NaN         NaN       0   \n",
       "4         Lvl    AllPub  ...        0    NaN    NaN         NaN       0   \n",
       "5         Lvl    AllPub  ...        0    NaN  MnPrv        Shed     700   \n",
       "6         Lvl    AllPub  ...        0    NaN    NaN         NaN       0   \n",
       "7         Lvl    AllPub  ...        0    NaN    NaN        Shed     350   \n",
       "8         Lvl    AllPub  ...        0    NaN    NaN         NaN       0   \n",
       "9         Lvl    AllPub  ...        0    NaN    NaN         NaN       0   \n",
       "\n",
       "  MoSold YrSold  SaleType  SaleCondition  SalePrice  \n",
       "0      2   2008        WD         Normal     208500  \n",
       "1      5   2007        WD         Normal     181500  \n",
       "2      9   2008        WD         Normal     223500  \n",
       "3      2   2006        WD        Abnorml     140000  \n",
       "4     12   2008        WD         Normal     250000  \n",
       "5     10   2009        WD         Normal     143000  \n",
       "6      8   2007        WD         Normal     307000  \n",
       "7     11   2009        WD         Normal     200000  \n",
       "8      4   2008        WD        Abnorml     129900  \n",
       "9      1   2008        WD         Normal     118000  \n",
       "\n",
       "[10 rows x 81 columns]"
      ]
     },
     "execution_count": 2,
     "metadata": {},
     "output_type": "execute_result"
    }
   ],
   "source": [
    "from sklearn.linear_model import LinearRegression\n",
    "from sklearn.model_selection import train_test_split  \n",
    "from sklearn.linear_model import LinearRegression \n",
    "from sklearn.impute import SimpleImputer \n",
    "from sklearn.preprocessing import OneHotEncoder\n",
    "from sklearn.compose import ColumnTransformer\n",
    "from sklearn.pipeline import Pipeline\n",
    "\n",
    "test=pd.read_csv(\"/kaggle/input/house-prices-advanced-regression-techniques/test.csv\")\n",
    "train=pd.read_csv(\"/kaggle/input/house-prices-advanced-regression-techniques/train.csv\")\n",
    "train.head(10)"
   ]
  },
  {
   "cell_type": "code",
   "execution_count": 3,
   "id": "5ffe621e",
   "metadata": {
    "execution": {
     "iopub.execute_input": "2024-09-21T20:09:54.485423Z",
     "iopub.status.busy": "2024-09-21T20:09:54.485000Z",
     "iopub.status.idle": "2024-09-21T20:09:54.495521Z",
     "shell.execute_reply": "2024-09-21T20:09:54.494645Z"
    },
    "papermill": {
     "duration": 0.01969,
     "end_time": "2024-09-21T20:09:54.497803",
     "exception": false,
     "start_time": "2024-09-21T20:09:54.478113",
     "status": "completed"
    },
    "tags": []
   },
   "outputs": [],
   "source": [
    "#Remove rows in train where sale price is unavailable\n",
    "train = train.dropna(subset=[\"SalePrice\"])\n",
    "\n",
    "# X contains the features that help predict the price (SalePrice), and y contains the actual sale prices.\n",
    "X = train.drop([\"SalePrice\", \"Id\"], axis=1)  # Drop SalePrice and Id (not useful for prediction)\n",
    "y = train[\"SalePrice\"]"
   ]
  },
  {
   "cell_type": "code",
   "execution_count": 4,
   "id": "25acd43f",
   "metadata": {
    "execution": {
     "iopub.execute_input": "2024-09-21T20:09:54.510593Z",
     "iopub.status.busy": "2024-09-21T20:09:54.510188Z",
     "iopub.status.idle": "2024-09-21T20:09:54.516857Z",
     "shell.execute_reply": "2024-09-21T20:09:54.515842Z"
    },
    "papermill": {
     "duration": 0.015848,
     "end_time": "2024-09-21T20:09:54.519255",
     "exception": false,
     "start_time": "2024-09-21T20:09:54.503407",
     "status": "completed"
    },
    "tags": []
   },
   "outputs": [],
   "source": [
    "#Because we have no sale price in test, we drop ID.\n",
    "X_test = test.drop([\"Id\"], axis=1)"
   ]
  },
  {
   "cell_type": "code",
   "execution_count": 5,
   "id": "852e531f",
   "metadata": {
    "execution": {
     "iopub.execute_input": "2024-09-21T20:09:54.532321Z",
     "iopub.status.busy": "2024-09-21T20:09:54.531583Z",
     "iopub.status.idle": "2024-09-21T20:09:54.541885Z",
     "shell.execute_reply": "2024-09-21T20:09:54.540827Z"
    },
    "papermill": {
     "duration": 0.019461,
     "end_time": "2024-09-21T20:09:54.544237",
     "exception": false,
     "start_time": "2024-09-21T20:09:54.524776",
     "status": "completed"
    },
    "tags": []
   },
   "outputs": [],
   "source": [
    "catcols = [cname for cname in X.columns if X[cname].dtype == \"object\"]  # Text columns\n",
    "numcols = [cname for cname in X.columns if X[cname].dtype in [\"int64\", \"float64\"]]  # Number columns"
   ]
  },
  {
   "cell_type": "code",
   "execution_count": 6,
   "id": "63de782b",
   "metadata": {
    "execution": {
     "iopub.execute_input": "2024-09-21T20:09:54.557273Z",
     "iopub.status.busy": "2024-09-21T20:09:54.556853Z",
     "iopub.status.idle": "2024-09-21T20:09:54.563169Z",
     "shell.execute_reply": "2024-09-21T20:09:54.561841Z"
    },
    "papermill": {
     "duration": 0.01579,
     "end_time": "2024-09-21T20:09:54.565663",
     "exception": false,
     "start_time": "2024-09-21T20:09:54.549873",
     "status": "completed"
    },
    "tags": []
   },
   "outputs": [],
   "source": [
    "numerical_transformer = SimpleImputer(strategy=\"mean\")\n",
    "#Values missing in numerical cols are replaced with the mean of the col."
   ]
  },
  {
   "cell_type": "code",
   "execution_count": 7,
   "id": "225a5934",
   "metadata": {
    "execution": {
     "iopub.execute_input": "2024-09-21T20:09:54.578755Z",
     "iopub.status.busy": "2024-09-21T20:09:54.578319Z",
     "iopub.status.idle": "2024-09-21T20:09:54.583808Z",
     "shell.execute_reply": "2024-09-21T20:09:54.582750Z"
    },
    "papermill": {
     "duration": 0.014867,
     "end_time": "2024-09-21T20:09:54.586083",
     "exception": false,
     "start_time": "2024-09-21T20:09:54.571216",
     "status": "completed"
    },
    "tags": []
   },
   "outputs": [],
   "source": [
    "categorical_transformer = Pipeline(steps=[\n",
    "    (\"imputer\", SimpleImputer(strategy=\"most_frequent\")),  # Fill missing text with most common value\n",
    "    (\"onehot\", OneHotEncoder(handle_unknown=\"ignore\"))  # Convert data (text) into numbers\n",
    "])"
   ]
  },
  {
   "cell_type": "code",
   "execution_count": 8,
   "id": "f49df235",
   "metadata": {
    "execution": {
     "iopub.execute_input": "2024-09-21T20:09:54.599690Z",
     "iopub.status.busy": "2024-09-21T20:09:54.598384Z",
     "iopub.status.idle": "2024-09-21T20:09:54.605091Z",
     "shell.execute_reply": "2024-09-21T20:09:54.603696Z"
    },
    "papermill": {
     "duration": 0.015919,
     "end_time": "2024-09-21T20:09:54.607573",
     "exception": false,
     "start_time": "2024-09-21T20:09:54.591654",
     "status": "completed"
    },
    "tags": []
   },
   "outputs": [],
   "source": [
    "preprocessor = ColumnTransformer(\n",
    "    transformers=[\n",
    "        (\"num\", numerical_transformer, numcols),  # Apply numerical transformation\n",
    "        (\"cat\", categorical_transformer, catcols)  # Apply categorical transformation\n",
    "    ]\n",
    ")"
   ]
  },
  {
   "cell_type": "code",
   "execution_count": 9,
   "id": "72af0d80",
   "metadata": {
    "execution": {
     "iopub.execute_input": "2024-09-21T20:09:54.620633Z",
     "iopub.status.busy": "2024-09-21T20:09:54.619823Z",
     "iopub.status.idle": "2024-09-21T20:09:54.625474Z",
     "shell.execute_reply": "2024-09-21T20:09:54.624379Z"
    },
    "papermill": {
     "duration": 0.014755,
     "end_time": "2024-09-21T20:09:54.627840",
     "exception": false,
     "start_time": "2024-09-21T20:09:54.613085",
     "status": "completed"
    },
    "tags": []
   },
   "outputs": [],
   "source": [
    "model = LinearRegression()\n",
    "\n",
    "# Step 10: Create a pipeline that first preprocesses the data, then trains the model\n",
    "pipeline = Pipeline(steps=[(\"preprocessor\", preprocessor), (\"model\", model)])"
   ]
  },
  {
   "cell_type": "code",
   "execution_count": 10,
   "id": "82b74260",
   "metadata": {
    "execution": {
     "iopub.execute_input": "2024-09-21T20:09:54.641274Z",
     "iopub.status.busy": "2024-09-21T20:09:54.640318Z",
     "iopub.status.idle": "2024-09-21T20:09:54.651754Z",
     "shell.execute_reply": "2024-09-21T20:09:54.650656Z"
    },
    "papermill": {
     "duration": 0.020919,
     "end_time": "2024-09-21T20:09:54.654379",
     "exception": false,
     "start_time": "2024-09-21T20:09:54.633460",
     "status": "completed"
    },
    "tags": []
   },
   "outputs": [],
   "source": [
    "X_train, X_two, y_train, y_two = train_test_split(X, y, test_size=0.2, random_state=0)"
   ]
  },
  {
   "cell_type": "code",
   "execution_count": 11,
   "id": "b31bc8f1",
   "metadata": {
    "execution": {
     "iopub.execute_input": "2024-09-21T20:09:54.667676Z",
     "iopub.status.busy": "2024-09-21T20:09:54.666724Z",
     "iopub.status.idle": "2024-09-21T20:09:54.906194Z",
     "shell.execute_reply": "2024-09-21T20:09:54.905137Z"
    },
    "papermill": {
     "duration": 0.249019,
     "end_time": "2024-09-21T20:09:54.909027",
     "exception": false,
     "start_time": "2024-09-21T20:09:54.660008",
     "status": "completed"
    },
    "tags": []
   },
   "outputs": [],
   "source": [
    "pipeline.fit(X_train, y_train)\n",
    "\n",
    "ypred = pipeline.predict(X_test)"
   ]
  },
  {
   "cell_type": "code",
   "execution_count": 12,
   "id": "bd387caf",
   "metadata": {
    "execution": {
     "iopub.execute_input": "2024-09-21T20:09:54.922366Z",
     "iopub.status.busy": "2024-09-21T20:09:54.921291Z",
     "iopub.status.idle": "2024-09-21T20:09:54.934980Z",
     "shell.execute_reply": "2024-09-21T20:09:54.933711Z"
    },
    "papermill": {
     "duration": 0.023504,
     "end_time": "2024-09-21T20:09:54.938063",
     "exception": false,
     "start_time": "2024-09-21T20:09:54.914559",
     "status": "completed"
    },
    "tags": []
   },
   "outputs": [],
   "source": [
    "out = pd.DataFrame({'Id': test['Id'], 'SalePrice': ypred})\n",
    "out.to_csv('house_price_predictions.csv', index=False)"
   ]
  }
 ],
 "metadata": {
  "kaggle": {
   "accelerator": "none",
   "dataSources": [
    {
     "databundleVersionId": 868283,
     "sourceId": 5407,
     "sourceType": "competition"
    }
   ],
   "dockerImageVersionId": 30761,
   "isGpuEnabled": false,
   "isInternetEnabled": true,
   "language": "python",
   "sourceType": "notebook"
  },
  "kernelspec": {
   "display_name": "Python 3",
   "language": "python",
   "name": "python3"
  },
  "language_info": {
   "codemirror_mode": {
    "name": "ipython",
    "version": 3
   },
   "file_extension": ".py",
   "mimetype": "text/x-python",
   "name": "python",
   "nbconvert_exporter": "python",
   "pygments_lexer": "ipython3",
   "version": "3.10.14"
  },
  "papermill": {
   "default_parameters": {},
   "duration": 6.134079,
   "end_time": "2024-09-21T20:09:55.564413",
   "environment_variables": {},
   "exception": null,
   "input_path": "__notebook__.ipynb",
   "output_path": "__notebook__.ipynb",
   "parameters": {},
   "start_time": "2024-09-21T20:09:49.430334",
   "version": "2.6.0"
  }
 },
 "nbformat": 4,
 "nbformat_minor": 5
}
